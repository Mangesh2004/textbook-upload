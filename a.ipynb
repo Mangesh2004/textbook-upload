{
 "cells": [
  {
   "cell_type": "code",
   "execution_count": 19,
   "metadata": {},
   "outputs": [],
   "source": [
    "import os \n",
    "from dotenv import load_dotenv, find_dotenv\n",
    "_ = load_dotenv(find_dotenv())\n",
    "gemini_api_key=os.environ['GOOGLE_API_KEY']\n",
    "pineconne_api_key=os.environ['PINECONE_API_KEY']"
   ]
  },
  {
   "cell_type": "code",
   "execution_count": 20,
   "metadata": {},
   "outputs": [],
   "source": [
    "from PIL import Image\n",
    "import google.generativeai as genai\n",
    "genai.configure(api_key=gemini_api_key)\n",
    "gemini_model = genai.GenerativeModel('gemini-2.0-flash')"
   ]
  },
  {
   "cell_type": "code",
   "execution_count": 23,
   "metadata": {},
   "outputs": [],
   "source": [
    "def summarize_image(image_path: str) -> str:\n",
    "    \"\"\"\n",
    "    Summarize the contents of an image using Gemini Vision.\n",
    "    \"\"\"\n",
    "    img = Image.open(image_path)\n",
    "    # The prompt tells Gemini to summarize the image.\n",
    "    response = gemini_model.generate_content([\n",
    "        \"Summarize the contents of this image, focusing on key details and overall context.\",\n",
    "        img\n",
    "    ])\n",
    "    return response.text"
   ]
  },
  {
   "cell_type": "code",
   "execution_count": 24,
   "metadata": {},
   "outputs": [
    {
     "name": "stdout",
     "output_type": "stream",
     "text": [
      "Summary for figure-35-32.jpg appended to file.\n",
      "Summary for figure-37-35.jpg appended to file.\n",
      "Summary for figure-39-36.jpg appended to file.\n",
      "Summary for figure-40-37.jpg appended to file.\n",
      "Summary for figure-51-38.jpg appended to file.\n",
      "Summary for figure-53-39.jpg appended to file.\n",
      "Summary for figure-64-42.jpg appended to file.\n",
      "Summary for figure-68-45.jpg appended to file.\n",
      "Summary for figure-81-53.jpg appended to file.\n",
      "Summary for figure-82-55.jpg appended to file.\n",
      "Summary for figure-83-57.jpg appended to file.\n"
     ]
    }
   ],
   "source": [
    "# Define the text file path where summaries will be appended\n",
    "summary_file_path = os.path.join(os.getcwd(), \"image_summaries.txt\")\n",
    "with open(summary_file_path, \"a\") as file:\n",
    "    for filename in os.listdir(output_path):\n",
    "        if filename.lower().endswith(('.png', '.jpg', '.jpeg', '.bmp', '.gif')):\n",
    "            image_path = os.path.join(output_path, filename)\n",
    "            summary = summarize_image(image_path)\n",
    "            file.write(f\"Summary for {filename}:\\n\")\n",
    "            file.write(summary + \"\\n\")\n",
    "            file.write(\"-\" * 40 + \"\\n\")\n",
    "            print(f\"Summary for {filename} appended to file.\")"
   ]
  }
 ],
 "metadata": {
  "kernelspec": {
   "display_name": "amplify",
   "language": "python",
   "name": "python3"
  },
  "language_info": {
   "codemirror_mode": {
    "name": "ipython",
    "version": 3
   },
   "file_extension": ".py",
   "mimetype": "text/x-python",
   "name": "python",
   "nbconvert_exporter": "python",
   "pygments_lexer": "ipython3",
   "version": "3.11.11"
  }
 },
 "nbformat": 4,
 "nbformat_minor": 2
}
